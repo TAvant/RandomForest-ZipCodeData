{
 "cells": [
  {
   "cell_type": "code",
   "execution_count": 2,
   "metadata": {
    "collapsed": false
   },
   "outputs": [],
   "source": [
    "import matplotlib.pyplot as plt\n",
    "import numpy as np\n",
    "import gzip as gz"
   ]
  },
  {
   "cell_type": "code",
   "execution_count": 158,
   "metadata": {
    "collapsed": false
   },
   "outputs": [],
   "source": [
    "def pca(data,k_features):\n",
    "    # check 0 < k_features <= number of features\n",
    "    if k_features > 0 and k_features <= data.shape[1]:\n",
    "      \n",
    "        # center the data and calculate the covariance matrix (sigma)\n",
    "        sigma = np.cov(data.T)\n",
    "        \n",
    "        # get the eigenvectors of sigma\n",
    "        eigen_vecs, _, _ = np.linalg.svd(sigma)\n",
    "        \n",
    "        # create an empty matrix to hold dimensionally reduced data\n",
    "        reduced_data = np.empty((data.shape[0], k_features))\n",
    "\n",
    "        # for each observation x, project x onto eigenvectors\n",
    "        for observation_idx in range(data.shape[0]):\n",
    "            reduced_data[observation_idx] = np.dot(eigen_vecs[:,:k_features].T, data[observation_idx,:][:,np.newaxis])[:,np.newaxis].T\n",
    "            \n",
    "        # return dimensionally reduced data\n",
    "        return reduced_data\n",
    "    \n",
    "    # print error message\n",
    "    print ('ERROR: 0 < k_features < %i') % data.shape[1]   "
   ]
  },
  {
   "cell_type": "code",
   "execution_count": 159,
   "metadata": {
    "collapsed": true
   },
   "outputs": [],
   "source": [
    "def get_cases(data,cases):\n",
    "    logical_array = np.logical_or.reduce([data[:,0] == case for case in cases])\n",
    "    return data[logical_array]"
   ]
  },
  {
   "cell_type": "code",
   "execution_count": 173,
   "metadata": {
    "collapsed": false
   },
   "outputs": [],
   "source": [
    "def clean_zip_code_data(pos, neg):\n",
    "    # read the zip code data\n",
    "    with gz.open(\"../Data/zip.train.gz\") as f:\n",
    "        train_data = np.loadtxt(f)\n",
    "\n",
    "    # filter out specify cases\n",
    "    train_data = get_cases(train_data,(pos,neg))\n",
    "\n",
    "    # split labels and features\n",
    "    X_train = train_data[:,1:]\n",
    "    y_train = train_data[:,0][:,np.newaxis]\n",
    "\n",
    "    #exctract features using pcs\n",
    "    X_train = pca(X_train,20)\n",
    "    \n",
    "    return np.hstack((y_train,X_train))"
   ]
  },
  {
   "cell_type": "code",
   "execution_count": 15,
   "metadata": {
    "collapsed": false
   },
   "outputs": [
    {
     "name": "stdout",
     "output_type": "stream",
     "text": [
      "39.4784176044\n"
     ]
    }
   ],
   "source": [
    "x = np.random.rand(10)\n",
    "print x\n",
    "print x / np.linalg.norm(x)"
   ]
  },
  {
   "cell_type": "code",
   "execution_count": 176,
   "metadata": {
    "collapsed": false
   },
   "outputs": [],
   "source": [
    "class node(object):\n",
    "    \n",
    "    def __init__(self)\n",
    "        self.randomVector = None\n",
    "        self.gaussian_positive = None\n",
    "        self.gaussian_negative = None\n",
    "        self.entropy = None\n",
    "        self.left = None\n",
    "        self.right = None\n",
    "        \n",
    "    def set_randomVec(self, size):\n",
    "        x = np.random.rand(size)\n",
    "        self.randomVector = x / np.linalg.norm(x)\n",
    "        \n",
    "    def set_gaussian(self, data, positive=True):\n",
    "        \n",
    "        sigma = np.cov(data.T)\n",
    "        mu = np.mean(data, axis=0)\n",
    "        const = 1 / (((2*np.pi)**(data.shape[0] / 2)) * np.det(sigma))\n",
    "        if positive:\n",
    "            self.gaussian_positive = lambda x: const * np.exp(-0.5 * (x-mu).T * np.linalg.inv())\n",
    "\n",
    "class random_forest(object):\n",
    "    \n",
    "    def __init__(self):\n",
    "        self.root = None\n",
    "    \n",
    "    def train(this,data,num_tree):\n",
    "        # for i in range num_tree\n",
    "            # create tree\n",
    "        \n",
    "        pass\n",
    "\n",
    "    def create_tree():\n",
    "        \n",
    "        # while number of observations is greater than five\n",
    "        \n",
    "            # seperate data by class\n",
    "            \n",
    "            # create a new node\n",
    "            \n",
    "            # createset nodes random vector\n",
    "            \n",
    "            # create/set nodes positive and negative gaussians\n",
    "            \n",
    "            # for each observation\n",
    "            \n",
    "                # caculate negative and positive probability\n",
    "                \n",
    "                # classify observation\n",
    "                \n",
    "            # caculate/set nodes entropy of node\n",
    "            \n",
    "            \n",
    "            \n",
    "        pass\n",
    "        \n",
    "    \n",
    "    def predict(this,data):\n",
    "        pass\n",
    "    \n",
    "    def score(self,y,y_hat):\n",
    "        pass\n",
    "    \n",
    "    def __question(data):\n",
    "        # separate in to postive and negative class\n",
    "        \n",
    "        # get the mean f'or both the positive and negative class\n",
    "        \n",
    "        # compute the covariance matrix for both positive and negative classes\n",
    "        \n",
    "        # Create Gaussian Function for both positive and negative classes...\n",
    "        \n",
    "        # create one random vector that has size of number of features\n",
    "        \n",
    "        # for each observation, \n",
    "            # project it into random vector\n",
    "            \n",
    "            # get probabilities from gaussian functions \n",
    "            \n",
    "            # compare the output, the probabilities and label accor..\n",
    "        \n",
    "        #return node, left and right data\n",
    "        \n",
    "        \n",
    "        pass\n",
    "    \n",
    "    "
   ]
  },
  {
   "cell_type": "code",
   "execution_count": null,
   "metadata": {
    "collapsed": true
   },
   "outputs": [],
   "source": []
  }
 ],
 "metadata": {
  "kernelspec": {
   "display_name": "Python 2",
   "language": "python",
   "name": "python2"
  },
  "language_info": {
   "codemirror_mode": {
    "name": "ipython",
    "version": 2
   },
   "file_extension": ".py",
   "mimetype": "text/x-python",
   "name": "python",
   "nbconvert_exporter": "python",
   "pygments_lexer": "ipython2",
   "version": "2.7.6"
  }
 },
 "nbformat": 4,
 "nbformat_minor": 0
}
