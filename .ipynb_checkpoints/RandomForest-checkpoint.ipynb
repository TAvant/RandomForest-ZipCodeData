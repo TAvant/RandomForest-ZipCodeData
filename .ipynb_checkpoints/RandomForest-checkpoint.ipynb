{
 "cells": [
  {
   "cell_type": "code",
   "execution_count": 154,
   "metadata": {
    "collapsed": false
   },
   "outputs": [],
   "source": [
    "import matplotlib.pyplot as plt\n",
    "import numpy as np\n",
    "import gzip as gz"
   ]
  },
  {
   "cell_type": "code",
   "execution_count": 158,
   "metadata": {
    "collapsed": false
   },
   "outputs": [],
   "source": [
    "def pca(data,k_features):\n",
    "    # check 0 < k_features <= number of features\n",
    "    if k_features > 0 and k_features <= data.shape[1]:\n",
    "      \n",
    "        # center the data and calculate the covariance matrix (sigma)\n",
    "        sigma = np.cov(data.T)\n",
    "        \n",
    "        # get the eigenvectors of sigma\n",
    "        eigen_vecs, _, _ = np.linalg.svd(sigma)\n",
    "        \n",
    "        # create an empty matrix to hold dimensionally reduced data\n",
    "        reduced_data = np.empty((data.shape[0], k_features))\n",
    "\n",
    "        # for each observation x, project x onto eigenvectors\n",
    "        for observation_idx in range(data.shape[0]):\n",
    "            reduced_data[observation_idx] = np.dot(eigen_vecs[:,:k_features].T, data[observation_idx,:][:,np.newaxis])[:,np.newaxis].T\n",
    "            \n",
    "        # return dimensionally reduced data\n",
    "        return reduced_data\n",
    "    \n",
    "    # print error message\n",
    "    print ('ERROR: 0 < k_features < %i') % data.shape[1]   "
   ]
  },
  {
   "cell_type": "code",
   "execution_count": 159,
   "metadata": {
    "collapsed": true
   },
   "outputs": [],
   "source": [
    "def get_cases(data,cases):\n",
    "    logical_array = np.logical_or.reduce([data[:,0] == case for case in cases])\n",
    "    return data[logical_array]"
   ]
  },
  {
   "cell_type": "code",
   "execution_count": 173,
   "metadata": {
    "collapsed": false
   },
   "outputs": [],
   "source": [
    "def clean_zip_code_data(pos, neg):\n",
    "    # read the zip code data\n",
    "    with gz.open(\"../Data/zip.train.gz\") as f:\n",
    "        train_data = np.loadtxt(f)\n",
    "\n",
    "    # filter out specify cases\n",
    "    train_data = get_cases(train_data,(pos,neg))\n",
    "\n",
    "    # split labels and features\n",
    "    X_train = train_data[:,1:]\n",
    "    y_train = train_data[:,0][:,np.newaxis]\n",
    "\n",
    "    #exctract features using pcs\n",
    "    X_train = pca(X_train,20)\n",
    "    \n",
    "    return np.hstack((y_train,X_train))"
   ]
  },
  {
   "cell_type": "code",
   "execution_count": 176,
   "metadata": {
    "collapsed": false
   },
   "outputs": [],
   "source": [
    "class node(object):\n",
    "    \n",
    "    def __init__(self):\n",
    "        this.randomVector = None\n",
    "        this.data = None\n",
    "        this.label = None\n",
    "        this.left = None\n",
    "        this.right = None\n",
    "\n",
    "class random_forest(object):\n",
    "    \n",
    "    def train(this,data,num_tree):\n",
    "        # for i in range num_tree\n",
    "            # create tree\n",
    "        \n",
    "        pass\n",
    "\n",
    "    def create_tree():\n",
    "        # crate first node\n",
    "        \n",
    "        # ask question\n",
    "        \n",
    "        # create children and enqueue to queue\n",
    "        \n",
    "        # while queue is not empty\n",
    "        \n",
    "            # dequeue node\n",
    "            \n",
    "            # check for purity\n",
    "            \n",
    "            # if purity level satisfied\n",
    "             # do nothing\n",
    "                \n",
    "            # ELSE create and enqueue two more questions\n",
    "        pass\n",
    "        \n",
    "    \n",
    "    def predict(this,data):\n",
    "        pass\n",
    "    \n",
    "    def score(self,y,y_hat):\n",
    "        pass\n",
    "    \n",
    "    def __question(data):\n",
    "        # separate in to postive and negative class\n",
    "        \n",
    "        # get the mean for both the positive and negative class\n",
    "        \n",
    "        # compute the covariance matrix for both positive and negative classes\n",
    "        \n",
    "        # Create Gaussian Function for both positive and negative classes...\n",
    "        \n",
    "        # create one random vector that has size of number of features\n",
    "        \n",
    "        # for each observation, \n",
    "            # project it into random vector\n",
    "            \n",
    "            # get probabilities from gaussian functions \n",
    "            \n",
    "            # compare the output, the probabilities and label accor..\n",
    "        \n",
    "        #return node, left and right data\n",
    "        \n",
    "        \n",
    "        pass\n",
    "    \n",
    "    "
   ]
  },
  {
   "cell_type": "code",
   "execution_count": null,
   "metadata": {
    "collapsed": true
   },
   "outputs": [],
   "source": []
  }
 ],
 "metadata": {
  "kernelspec": {
   "display_name": "Python 2",
   "language": "python",
   "name": "python2"
  },
  "language_info": {
   "codemirror_mode": {
    "name": "ipython",
    "version": 2
   },
   "file_extension": ".py",
   "mimetype": "text/x-python",
   "name": "python",
   "nbconvert_exporter": "python",
   "pygments_lexer": "ipython2",
   "version": "2.7.6"
  }
 },
 "nbformat": 4,
 "nbformat_minor": 0
}
